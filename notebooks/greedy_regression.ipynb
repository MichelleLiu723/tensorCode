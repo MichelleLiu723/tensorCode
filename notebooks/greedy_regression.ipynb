{
 "cells": [
  {
   "cell_type": "code",
   "execution_count": 81,
   "metadata": {
    "collapsed": true
   },
   "outputs": [],
   "source": [
    "import torch\n",
    "import numpy as np\n",
    "from numpy.linalg import norm\n",
    "import torch.optim as optim\n",
    "import matplotlib.pyplot as plt\n",
    "import random"
   ]
  },
  {
   "cell_type": "code",
   "execution_count": 82,
   "metadata": {
    "collapsed": true
   },
   "outputs": [],
   "source": [
    "def get_repeated_Indices(list_of_indices):\n",
    "    #input: string of indices for the tensors. \n",
    "    #output: string of repeated indices. code takes in indices and output only the repeated indices\n",
    "    #Ex: Suppose tensor A has index ijkp, and tensor B has index klpm.\n",
    "    #then get_repeated_Indices('ijkp', 'klpm') will return the following string: 'kp'\n",
    "    myList = list_of_indices\n",
    "    #convert List to string\n",
    "    myString =''.join(myList)\n",
    "    #break the string into indivual list of characters ex.  'abc' ->['a','b', 'c']\n",
    "    myList = list(myString)\n",
    "    #get the repeated frequencies of each indices\n",
    "    my_dict = {i:myList.count(i) for i in myList}\n",
    "    \n",
    "    repeatedList = []\n",
    "    for item in my_dict:\n",
    "        if my_dict[item] > 1:\n",
    "            repeatedList.append(item)\n",
    "    return repeatedList\n",
    "\n",
    "def  remove_Repeated_indices(List_of_indices):\n",
    "    #inputs: tensor indices in the form of string\n",
    "    #output: string of non repeated indicies\n",
    "    #Ex: remove_Repeated_indices('abc', 'cde')\n",
    "    #output of the example would be: 'abde'\n",
    "    \n",
    "    myList = List_of_indices \n",
    "    #turn myList into String: Ex: ['abc','cde'] -> 'abccde'\n",
    "    myString = ''.join(myList)\n",
    "    #turn back into lists again: Exp: from 'abccde' -> ['a','b','c','c','d','e']\n",
    "    myList = list(myString)\n",
    "    repeated_indices = get_repeated_Indices(List_of_indices)\n",
    "    #print('the repeated list of indices are:', repeated_indices)\n",
    "    unique_indices = []\n",
    "    #now we remove repeated indices from myList\n",
    "    for item in myList:\n",
    "        if item not in repeated_indices:\n",
    "            unique_indices.append(item)\n",
    "    uniqueString = ''.join(unique_indices)   \n",
    "    return uniqueString\n",
    "\n",
    "def einSum_Contraction(tensorList, indxList):  #<----should rename this to einSum_Contraction to replace old code\n",
    "    #Purpose: this function takes a list of tensors, and list of indices, and indix to contract and uses einstien summation to perform contraction\n",
    "    #ex: tensorList = [tensor1, tensor2, tensor3]\n",
    "    #indxList   = [indx1, indx2, indx3]\n",
    "    myList = []\n",
    "    uniqueIndices = remove_Repeated_indices(indxList)\n",
    "    inputIndices = [indxList]\n",
    "    N = len(indxList)\n",
    "    #myList = [indx1, ',',indx2,',',indx3,'->', uniqueIndices] \n",
    "    for i in range(N - 1):\n",
    "        myList.append(indxList[i])\n",
    "        myList.append(',') \n",
    "    myList.append(indxList[N-1])\n",
    "    myList.append('->')\n",
    "    myList.append(uniqueIndices)\n",
    "    #convert myList to a string: i.e.  [indx1, ',',indx2,',',indx3,'->', uniqueIndices]  - >'ijk,klm,mjp->ilp'\n",
    "    myString = ''.join(myList)\n",
    "    #print('myString = ', myString)\n",
    "    C = torch.einsum(myString, tensorList)\n",
    "    return C"
   ]
  },
  {
   "cell_type": "code",
   "execution_count": 83,
   "metadata": {
    "collapsed": true
   },
   "outputs": [],
   "source": [
    "def padTensor(tensor, pad_axis):\n",
    "    #this is for the discrete optimization\n",
    "    #this function takes a tensor and append an extra dimension of ~ zeros along the specified axis (we call the pad axis)\n",
    "    if pad_axis == -1:\n",
    "        return tensor #don't pad anything\n",
    "    tensorShape = list(tensor.shape)\n",
    "    tensorShape[pad_axis] = 1  #increase the dimension up by 1\n",
    "    zerosPad = torch.rand(tensorShape) *1e-6  #pad with values approx. equal to zero\n",
    "    padded_tensor = torch.cat([tensor, zerosPad], pad_axis)\n",
    "    #print('padded_tensor.shape = ', padded_tensor.shape)\n",
    "    #print('padded_tensor function output = ', padded_tensor)\n",
    "    return padded_tensor"
   ]
  },
  {
   "cell_type": "code",
   "execution_count": 84,
   "metadata": {
    "collapsed": true
   },
   "outputs": [],
   "source": [
    "def increaseRank(Tensor1, Tensor2, indx1, indx2):\n",
    "    # The indx 1 and index2 represents the indices for tensor 1 and 2 respectively. \n",
    "    #There is only one repeated index in the list (indx1, indx2). The repeated index represents the shared edge between\n",
    "    #the two tensors. For ex: ijkl, lmno\n",
    "    alpha = get_repeated_Indices([indx1, indx2])\n",
    "    if len(alpha) != 0 :\n",
    "        #convert alpha to string\n",
    "        alpha = ''.join(alpha)\n",
    "        # find the position of the repeated index alpha in indx1 and indx2\n",
    "        padAxes1 = indx1.index(alpha)\n",
    "        padAxes2 = indx2.index(alpha)  \n",
    "        Tensor1 = padTensor(Tensor1, padAxes1)\n",
    "        Tensor2 = padTensor(Tensor2, padAxes2)\n",
    "    return  Tensor1, Tensor2"
   ]
  },
  {
   "cell_type": "code",
   "execution_count": 85,
   "metadata": {
    "collapsed": true
   },
   "outputs": [],
   "source": [
    "def Tensor_Generator(TensorDimension):\n",
    "#input: desired target tensor dimension in the form of a list. Ex: input d1xd2xd3 as [d1, d2, d3]\n",
    "#output: target tensor with random entries drawn from a normal distribution of mean=0 and variance=1\n",
    "    Tensor = torch.randn(TensorDimension)\n",
    "    return Tensor"
   ]
  },
  {
   "cell_type": "code",
   "execution_count": 86,
   "metadata": {
    "collapsed": true
   },
   "outputs": [],
   "source": [
    "def getOneData_point(W):\n",
    "# W is input tensor\n",
    "#X are drawn from a normal distribution of mean=0 and variance=1 \n",
    "#output: Xi, yi  = targetTensor * X\n",
    "    indxList = []\n",
    "    alphabet = 'abcdefghijklmnopqrstuvwxyz'\n",
    "    Xi = Tensor_Generator(W.shape) #generate Tensor Xi with same shape as input tensor W\n",
    "    for j in range(len(Xi.shape)):\n",
    "        indxList.append(alphabet[j])\n",
    "        indx = ''.join(indxList)\n",
    "    tensorList = [W, Xi]\n",
    "    #W and X have same index so that yi is a scaler\n",
    "    yi = einSum_Contraction([W,Xi], [indx, indx])\n",
    "    return Xi, yi, indx  #W and Xi shares the same indx\n",
    "\n",
    "def data_Set_Generator(tensor, N):\n",
    "    #N = number of training data you want\n",
    "    #tensor is usually the target tensor \n",
    "    Xi_set = []\n",
    "    yi_set = []\n",
    "    for i in range(N):\n",
    "        Xi, yi, indx = getOneData_point(tensor)\n",
    "        Xi_set.append(Xi)\n",
    "        yi_set.append(yi)\n",
    "    return Xi_set, yi_set,indx  #tensor and Xi shares the same indx\n",
    "\n",
    "def getYi_set(Xi_set, tensor, indxList):\n",
    "    #this function generates a N number of yi's using yi = tensor*Xi_set[i]. \n",
    "    #The input tensor is usually either the approx. tensor or the target tensor.\n",
    "    #indxList = [indx_Xi, indx_tensor]\n",
    "    yi_set = []\n",
    "    N = len(Xi_set)      #is there are N elements of Xi in Xi_set, there will be N elements of yi in yi_set\n",
    "    for i in range(N):\n",
    "        yi = einSum_Contraction([tensor,Xi_set[i]], indxList)\n",
    "        yi_set.append(yi)\n",
    "    return yi_set"
   ]
  },
  {
   "cell_type": "code",
   "execution_count": 87,
   "metadata": {
    "collapsed": true
   },
   "outputs": [],
   "source": [
    "def innerProduct_Tensor(T,A):\n",
    "    #input: inner product of two tensors T and A of same dimension equals the sum of the product of their entries \n",
    "    #covert T, and A tensors in to 1 D tensors\n",
    "    T = T.view(1,-1)   #convert tensor  to 1D\n",
    "    T = T.squeeze()    #squeeze out any extra dimension\n",
    "    A = A.view(1,-1)\n",
    "    A = A.squeeze()\n",
    "    #perform inner product of two 1D tensors\n",
    "    yi = sum(torch.mul(T,A))\n",
    "    return yi\n",
    "    "
   ]
  },
  {
   "cell_type": "code",
   "execution_count": 88,
   "metadata": {
    "collapsed": true
   },
   "outputs": [],
   "source": [
    "def printRank(TensorList):\n",
    "    [r5,r6,r7,r8] = (TensorList[4].shape) #tensor G dimension\n",
    "    [r4,d4,r3,r5] = (TensorList[3].shape) #tensor D dimension\n",
    "    [r2,d1,r1,r7] = (TensorList[0].shape) #tensor A dimension\n",
    "    #print(' [r1, r2, r3,r4,r5,r6,r7,r8] = ', '[', r1, ',', r2, ',', r3, ',', r4, ',', r5,',', r6, ',', r7, ',', r8, ']')\n",
    "    r = [r1,r2,r3,r4,r5,r6,r7,r8]\n",
    "    return r\n",
    "\n",
    "\n",
    "def getNumParams(r):\n",
    "    #r = list of ranks of a tensor\n",
    "    numParam = d1*r[0]*r[6]*r[1] + d2*r[0]*r[7]*r[3]+ d3*r[1]*r[5]*r[2] + d4*r[3]*r[4]*r[2] + r[4]*r[5]*r[6]*r[7]\n",
    "    return numParam\n",
    "\n",
    "def getNumParams_stoch(r):\n",
    "    #r = [r0,r1,r2,r3,...,r7] \n",
    "    #we want to compuate the dimension of the block we start with. For exmape\n",
    "    #we started with 4 order tensor, which can be approximated by 5 tensors\n",
    "    #below computes the number of params for each of the tensor\n",
    "    numParam1 = d1*r[0]*r[6]*r[1]\n",
    "    numParam2 = d2*r[0]*r[7]*r[3]\n",
    "    numParam3 = d3*r[1]*r[5]*r[2]\n",
    "    numParam4 = d4*r[3]*r[4]*r[2]\n",
    "    numParamCore = r[4]*r[5]*r[6]*r[7] \n",
    "    numParamList = [numParam1, numParam2, numParam3, numParam4, numParamCore]\n",
    "    return numParamList"
   ]
  },
  {
   "cell_type": "code",
   "execution_count": 89,
   "metadata": {
    "collapsed": true
   },
   "outputs": [],
   "source": [
    "def computeLoss_Regression(yi_set, Xi_set, approxTensor):\n",
    "    #N is total number of training/test data\n",
    "    sum = 0\n",
    "    N = len(yi_set)\n",
    "    for i in range(N):\n",
    "        # y_approx = innerProduct(ApproxTensor, X_i)\n",
    "        y_approx = innerProduct_Tensor(approxTensor, Xi_set[i])\n",
    "        loss = (yi_set[i] - y_approx)**2\n",
    "        sum = sum + loss\n",
    "    #divide by N to average the squared error of the cost function  so that the cost function doesn't depend on the number \n",
    "    #of elements in the training set.\n",
    "    total_loss = 1/(2*N)*sum \n",
    "    return(total_loss)"
   ]
  },
  {
   "cell_type": "code",
   "execution_count": 90,
   "metadata": {
    "collapsed": true
   },
   "outputs": [],
   "source": [
    "def get_RandomSeqence(seqLength,d):\n",
    "    #the function generates a random sequence of length 'seqLength' with range from 1 to range d.\n",
    "    #For examplae, if we have 8 ranks, then seqLength. Code will generate 8 random numbers in the range between \n",
    "    #1 to d inclusive.\n",
    "    r = []\n",
    "    for i in range(seqLength):\n",
    "        r.append(random.randint(1,d))\n",
    "    return r"
   ]
  },
  {
   "cell_type": "code",
   "execution_count": 91,
   "metadata": {
    "collapsed": true
   },
   "outputs": [],
   "source": [
    "def get_Next_randomEdge(r_list):\n",
    "    #this function is for random walk\n",
    "    #input: r_list = [r0,r1,...r7] \n",
    "    nextDirection = random.randint(0, len(r_list)-1)\n",
    "    print('nextDirection = ', nextDirection)\n",
    "    r_list[nextDirection] = 1 + r_list[nextDirection]\n",
    "    return r_list"
   ]
  },
  {
   "cell_type": "code",
   "execution_count": 92,
   "metadata": {
    "collapsed": true
   },
   "outputs": [],
   "source": [
    "def solve_Continuous(target_Tensor, tensorList, indxList, iterNum):\n",
    "#input: list of tensors and their corresponding indices\n",
    "#Goal: The purpose of this function is to solve the innerloop of the optimization for the problem\n",
    "    len_Tensor = len(tensorList)\n",
    "    len_Indx   = len(indxList)\n",
    "    for i in range(len_Tensor):\n",
    "        tensorList[i] = tensorList[i].detach()\n",
    "        tensorList[i].requires_grad = True\n",
    "    #defines a SGD optimizer to update the parameters\n",
    "    #optimizer = optim.SGD(tensorList lr = 0.001, momentum=0.2)\n",
    "    optimizer = optim.Adam(tensorList, lr=0.009)\n",
    "    #initialize parameters      \n",
    "    LostList = []              #use this to plot the lost function\n",
    "    for i in range(iterNum):\n",
    "        optimizer.zero_grad()\n",
    "        tensor_approx = einSum_Contraction(tensorList, indxList)\n",
    "        #loss_fn = computeLoss(tensor_approx, target_Tensor)   # this is for tensor decomp: ||W_target - W_approx||_Fˆ2\n",
    "        loss_fn =computeLoss_Regression(yi_train, Xi_train, tensor_approx)\n",
    "        loss_fn.backward()\n",
    "        optimizer.step()                # the new A,B,C will be A_k+1,B_k+1, C_k+1 after optimizer.step \n",
    "        LostList.append(float(loss_fn))\n",
    "    return tensorList, indxList, LostList"
   ]
  },
  {
   "cell_type": "code",
   "execution_count": 93,
   "metadata": {
    "collapsed": true
   },
   "outputs": [],
   "source": [
    "#generate 4-order target tensor\n",
    "#see ipad for supplementary notes on this tensor and its diagram\n",
    "\n",
    "#With Core tensor: 5 nodes\n",
    "#****it will be interestingn to set r5 to r8 to get tucker structure and run the code to see how \n",
    "# the structure compares to tucker decomposition. Tucker decomposition could become another based cased\n",
    "d1 = 3\n",
    "d2 = 3\n",
    "d3 = 3\n",
    "d4 = 3\n",
    "d5 = 3\n",
    "r0 = 2\n",
    "r1 = 3\n",
    "r2 = 4\n",
    "r3 = 3\n",
    "r4 = 2\n",
    "r5 = 3\n",
    "r6 = 2\n",
    "r7 = 2\n",
    "\n",
    "noise = 1e-6\n",
    "#generate at random target tensor\n",
    "\n",
    "A = torch.rand(r1,d1,r0,r6) # + torch.rand(r1,d1,r0,r6)*noise\n",
    "B = torch.rand(r0,d2,r3,r7) # + torch.rand(r0,d2,r3,r7)*noise\n",
    "C = torch.rand(r1,d3,r2,r5) # + torch.rand(r1,d3,r2,r5)*noise\n",
    "D = torch.rand(r3,d4,r2,r4) # + torch.rand(r3,d4,r2,r4)*noise \n",
    "G = torch.rand(r4,r5,r6,r7) # + torch.rand(r4,r5,r6,r7)*noise\n",
    "\n",
    "indxA = 'kilc'\n",
    "indxB = 'ljed'\n",
    "indxC = 'khgb'\n",
    "indxD = 'efga'\n",
    "indxG = 'abcd'   #core tensor\n",
    "\n",
    "indxList = [indxA, indxB, indxC, indxD, indxG]\n",
    "\n",
    "target_Tensor = einSum_Contraction([A,B,C,D,G], [indxA, indxB, indxC, indxD, indxG])\n",
    "\n",
    "\n",
    "#generate training and test sets\n",
    "N=20\n",
    "#p is the percentage of the total number of data N\n",
    "p = int(np.floor(0.65*20))  #so is is 65% of the original data\n",
    "[Xi_data, yi_data, indx] = data_Set_Generator(target_Tensor, N) \n",
    "Xi_train = Xi_data[0:p]\n",
    "yi_train  = yi_data[0:p]\n",
    "Xi_test = Xi_data[p:N+1]\n",
    "yi_test = yi_data[p:N+1]"
   ]
  },
  {
   "cell_type": "code",
   "execution_count": 94,
   "metadata": {
    "collapsed": true
   },
   "outputs": [],
   "source": [
    "#following data are used for initializing Greedy method\n",
    "\n",
    "#initilize data\n",
    "r1 = 1\n",
    "r2 = 1\n",
    "r3 = 1\n",
    "r4 = 1\n",
    "r5 = 1\n",
    "r6 = 1\n",
    "r7 = 1\n",
    "r8 = 1\n",
    "\n",
    "#initialize tensor \n",
    "A_0 = torch.rand(r2,d1,r1,r7)\n",
    "B_0 = torch.rand(r1,d2,r4,r8)\n",
    "C_0 = torch.rand(r2,d3,r3,r6) \n",
    "D_0 = torch.rand(r4,d4,r3,r5) \n",
    "G_0 = torch.rand(r5,r6,r7,r8)\n",
    "\n",
    "#target_Tensor = einSum_Contraction([A_0,B_0,C_0,D_0,G_0], [indxA, indxB, indxC, indxD, indxG])\n",
    "\n",
    "\n",
    "TensorList = [A_0,B_0,C_0,D_0,G_0] \n",
    "TensorList_temp = [A_0,B_0,C_0,D_0,G_0] #TensorList[:]\n",
    "\n",
    "#index list: we use the same indexlist as the ones defiined for target tensor"
   ]
  },
  {
   "cell_type": "code",
   "execution_count": 95,
   "metadata": {},
   "outputs": [
    {
     "name": "stdout",
     "output_type": "stream",
     "text": [
      "numParam_greedy= 19\n",
      "r_greedy =  [2, 1, 1, 1, 1, 1, 1, 1]\n",
      "numParam_greedy= 19\n",
      "r_greedy =  [1, 2, 1, 1, 1, 1, 1, 1]\n",
      "numParam_greedy= 13\n",
      "r_greedy =  [1, 1, 1, 1, 1, 1, 1, 1]\n",
      "numParam_greedy= 17\n",
      "r_greedy =  [1, 1, 1, 1, 1, 1, 2, 1]\n",
      "numParam_greedy= 13\n",
      "r_greedy =  [1, 1, 1, 1, 1, 1, 1, 1]\n",
      "numParam_greedy= 19\n",
      "r_greedy =  [1, 1, 1, 2, 1, 1, 1, 1]\n",
      "numParam_greedy= 17\n",
      "k =  0 Prev Loss =  0.3837956488132477 Current Loss =  8.13695240020752\n",
      "Loss previous is less than current, so no rank update is made at this iteration\n",
      "total number of parameters for best chosen rank =  19\n",
      "numParam_greedy= 19\n",
      "k =  0 Prev Loss =  0.3837956488132477 Current Loss =  1.7003014087677002\n",
      "Loss previous is less than current, so no rank update is made at this iteration\n",
      "total number of parameters for best chosen rank =  19\n",
      "numParam_greedy= 17\n",
      "k =  0 Prev Loss =  0.3837956488132477 Current Loss =  8.136640548706055\n",
      "Loss previous is less than current, so no rank update is made at this iteration\n",
      "total number of parameters for best chosen rank =  19\n",
      "numParam_greedy= 17\n",
      "k =  0 Prev Loss =  0.3837956488132477 Current Loss =  8.1367826461792\n",
      "Loss previous is less than current, so no rank update is made at this iteration\n",
      "total number of parameters for best chosen rank =  19\n",
      "numParam_greedy= 28\n",
      "r_greedy =  [2, 1, 1, 2, 1, 1, 1, 1]\n",
      "numParam_greedy= 19\n",
      "k =  1 Prev Loss =  0.020550517365336418 Current Loss =  0.3844512701034546\n",
      "Loss previous is less than current, so no rank update is made at this iteration\n",
      "total number of parameters for best chosen rank =  28\n",
      "numParam_greedy= 13\n",
      "k =  1 Prev Loss =  0.020550517365336418 Current Loss =  8.136846542358398\n",
      "Loss previous is less than current, so no rank update is made at this iteration\n",
      "total number of parameters for best chosen rank =  28\n",
      "numParam_greedy= 17\n",
      "k =  1 Prev Loss =  0.020550517365336418 Current Loss =  8.138627052307129\n",
      "Loss previous is less than current, so no rank update is made at this iteration\n",
      "total number of parameters for best chosen rank =  28\n",
      "numParam_greedy= 13\n",
      "k =  1 Prev Loss =  0.020550517365336418 Current Loss =  8.137307167053223\n",
      "Loss previous is less than current, so no rank update is made at this iteration\n",
      "total number of parameters for best chosen rank =  28\n",
      "numParam_greedy= 19\n",
      "k =  1 Prev Loss =  0.020550517365336418 Current Loss =  3.220580577850342\n",
      "Loss previous is less than current, so no rank update is made at this iteration\n",
      "total number of parameters for best chosen rank =  28\n",
      "numParam_greedy= 17\n",
      "k =  1 Prev Loss =  0.020550517365336418 Current Loss =  8.136693000793457\n",
      "Loss previous is less than current, so no rank update is made at this iteration\n",
      "total number of parameters for best chosen rank =  28\n",
      "numParam_greedy= 19\n",
      "k =  1 Prev Loss =  0.020550517365336418 Current Loss =  1.9323586225509644\n",
      "Loss previous is less than current, so no rank update is made at this iteration\n",
      "total number of parameters for best chosen rank =  28\n",
      "numParam_greedy= 17\n",
      "k =  1 Prev Loss =  0.020550517365336418 Current Loss =  8.13693618774414\n",
      "Loss previous is less than current, so no rank update is made at this iteration\n",
      "total number of parameters for best chosen rank =  28\n",
      "numParam_greedy= 17\n",
      "k =  1 Prev Loss =  0.020550517365336418 Current Loss =  8.136636734008789\n",
      "Loss previous is less than current, so no rank update is made at this iteration\n",
      "total number of parameters for best chosen rank =  28\n",
      "numParam_greedy= 37\n",
      "r_greedy =  [3, 1, 1, 2, 1, 1, 1, 1]\n",
      "numParam_greedy= 19\n",
      "k =  2 Prev Loss =  0.004363940097391605 Current Loss =  0.3836359977722168\n",
      "Loss previous is less than current, so no rank update is made at this iteration\n",
      "total number of parameters for best chosen rank =  37\n",
      "numParam_greedy= 13\n",
      "k =  2 Prev Loss =  0.004363940097391605 Current Loss =  8.136777877807617\n",
      "Loss previous is less than current, so no rank update is made at this iteration\n",
      "total number of parameters for best chosen rank =  37\n",
      "numParam_greedy= 17\n",
      "k =  2 Prev Loss =  0.004363940097391605 Current Loss =  8.137300491333008\n",
      "Loss previous is less than current, so no rank update is made at this iteration\n",
      "total number of parameters for best chosen rank =  37\n",
      "numParam_greedy= 13\n",
      "k =  2 Prev Loss =  0.004363940097391605 Current Loss =  8.13696002960205\n",
      "Loss previous is less than current, so no rank update is made at this iteration\n",
      "total number of parameters for best chosen rank =  37\n",
      "numParam_greedy= 19\n",
      "k =  2 Prev Loss =  0.004363940097391605 Current Loss =  1.9341492652893066\n",
      "Loss previous is less than current, so no rank update is made at this iteration\n",
      "total number of parameters for best chosen rank =  37\n",
      "numParam_greedy= 17\n",
      "k =  2 Prev Loss =  0.004363940097391605 Current Loss =  8.136612892150879\n",
      "Loss previous is less than current, so no rank update is made at this iteration\n",
      "total number of parameters for best chosen rank =  37\n",
      "numParam_greedy= 19\n",
      "k =  2 Prev Loss =  0.004363940097391605 Current Loss =  1.9239742755889893\n",
      "Loss previous is less than current, so no rank update is made at this iteration\n",
      "total number of parameters for best chosen rank =  37\n",
      "numParam_greedy= 17\n",
      "k =  2 Prev Loss =  0.004363940097391605 Current Loss =  8.136834144592285\n",
      "Loss previous is less than current, so no rank update is made at this iteration\n",
      "total number of parameters for best chosen rank =  37\n",
      "numParam_greedy= 17\n",
      "k =  2 Prev Loss =  0.004363940097391605 Current Loss =  8.136788368225098\n",
      "Loss previous is less than current, so no rank update is made at this iteration\n",
      "total number of parameters for best chosen rank =  37\n",
      "numParam_greedy= 46\n",
      "r_greedy =  [4, 1, 1, 2, 1, 1, 1, 1]\n",
      "numParam_greedy= 19\n",
      "k =  3 Prev Loss =  0.001709083328023553 Current Loss =  2.9009690284729004\n",
      "Loss previous is less than current, so no rank update is made at this iteration\n",
      "total number of parameters for best chosen rank =  46\n",
      "numParam_greedy= 13\n",
      "k =  3 Prev Loss =  0.001709083328023553 Current Loss =  8.136462211608887\n",
      "Loss previous is less than current, so no rank update is made at this iteration\n",
      "total number of parameters for best chosen rank =  46\n",
      "numParam_greedy= 17\n",
      "k =  3 Prev Loss =  0.001709083328023553 Current Loss =  8.13868236541748\n",
      "Loss previous is less than current, so no rank update is made at this iteration\n",
      "total number of parameters for best chosen rank =  46\n",
      "numParam_greedy= 13\n",
      "k =  3 Prev Loss =  0.001709083328023553 Current Loss =  8.137374877929688\n",
      "Loss previous is less than current, so no rank update is made at this iteration\n",
      "total number of parameters for best chosen rank =  46\n",
      "numParam_greedy= 19\n",
      "k =  3 Prev Loss =  0.001709083328023553 Current Loss =  5.638678073883057\n",
      "Loss previous is less than current, so no rank update is made at this iteration\n",
      "total number of parameters for best chosen rank =  46\n",
      "numParam_greedy= 17\n",
      "k =  3 Prev Loss =  0.001709083328023553 Current Loss =  8.137528419494629\n",
      "Loss previous is less than current, so no rank update is made at this iteration\n",
      "total number of parameters for best chosen rank =  46\n",
      "numParam_greedy= 19\n",
      "k =  3 Prev Loss =  0.001709083328023553 Current Loss =  1.7538812160491943\n",
      "Loss previous is less than current, so no rank update is made at this iteration\n",
      "total number of parameters for best chosen rank =  46\n",
      "numParam_greedy= 17\n",
      "k =  3 Prev Loss =  0.001709083328023553 Current Loss =  8.136878967285156\n",
      "Loss previous is less than current, so no rank update is made at this iteration\n",
      "total number of parameters for best chosen rank =  46\n",
      "numParam_greedy= 17\n",
      "k =  3 Prev Loss =  0.001709083328023553 Current Loss =  8.136371612548828\n",
      "Loss previous is less than current, so no rank update is made at this iteration\n",
      "total number of parameters for best chosen rank =  46\n",
      "numParam_greedy= 55\n",
      "r_greedy =  [5, 1, 1, 2, 1, 1, 1, 1]\n",
      "numParam_greedy= 19\n",
      "k =  4 Prev Loss =  0.000998261384665966 Current Loss =  0.3947300612926483\n",
      "Loss previous is less than current, so no rank update is made at this iteration\n",
      "total number of parameters for best chosen rank =  55\n",
      "numParam_greedy= 13\n",
      "k =  4 Prev Loss =  0.000998261384665966 Current Loss =  8.136696815490723\n",
      "Loss previous is less than current, so no rank update is made at this iteration\n",
      "total number of parameters for best chosen rank =  55\n",
      "numParam_greedy= 17\n",
      "k =  4 Prev Loss =  0.000998261384665966 Current Loss =  8.137425422668457\n",
      "Loss previous is less than current, so no rank update is made at this iteration\n",
      "total number of parameters for best chosen rank =  55\n",
      "numParam_greedy= 13\n"
     ]
    },
    {
     "name": "stdout",
     "output_type": "stream",
     "text": [
      "k =  4 Prev Loss =  0.000998261384665966 Current Loss =  8.137063026428223\n",
      "Loss previous is less than current, so no rank update is made at this iteration\n",
      "total number of parameters for best chosen rank =  55\n",
      "numParam_greedy= 19\n",
      "k =  4 Prev Loss =  0.000998261384665966 Current Loss =  6.680768966674805\n",
      "Loss previous is less than current, so no rank update is made at this iteration\n",
      "total number of parameters for best chosen rank =  55\n",
      "numParam_greedy= 17\n",
      "k =  4 Prev Loss =  0.000998261384665966 Current Loss =  8.13808536529541\n",
      "Loss previous is less than current, so no rank update is made at this iteration\n",
      "total number of parameters for best chosen rank =  55\n",
      "numParam_greedy= 19\n",
      "k =  4 Prev Loss =  0.000998261384665966 Current Loss =  2.155329942703247\n",
      "Loss previous is less than current, so no rank update is made at this iteration\n",
      "total number of parameters for best chosen rank =  55\n",
      "numParam_greedy= 17\n",
      "k =  4 Prev Loss =  0.000998261384665966 Current Loss =  8.136563301086426\n",
      "Loss previous is less than current, so no rank update is made at this iteration\n",
      "total number of parameters for best chosen rank =  55\n",
      "numParam_greedy= 17\n",
      "k =  4 Prev Loss =  0.000998261384665966 Current Loss =  8.137060165405273\n",
      "Loss previous is less than current, so no rank update is made at this iteration\n",
      "total number of parameters for best chosen rank =  55\n"
     ]
    }
   ],
   "source": [
    "############################### MAIN LOOP FOR GREEDY #####################\n",
    "\n",
    "#Initialize data\n",
    "iterNum=100   #500\n",
    "Lost_star = 1e12  #set it to be any large number\n",
    "check = 1\n",
    "maxParam = d1*d2*d3*d4\n",
    "numParam = -1\n",
    "paramKey = -1\n",
    "G = []\n",
    "\n",
    "for k in range(5):\n",
    "    if paramKey == 1:\n",
    "        break\n",
    "    for i in range(len(TensorList_temp)):\n",
    "        if paramKey == 1:\n",
    "            break\n",
    "        for j in range(i,len(TensorList_temp)):\n",
    "            if paramKey == 1:\n",
    "                break\n",
    "            if i==j:\n",
    "                continue\n",
    "            #print(i,j)\n",
    "            #increase the ranks of the tensors\n",
    "            [TensorList_temp[i],TensorList_temp[j]] = increaseRank(TensorList_temp[i], TensorList_temp[j],  indxList[i], indxList[j])            \n",
    "            #check num of paramters for the newly updated ranks\n",
    "           # rt = list of ranks: [r1_t,r2_t,r3_t,r4_t,r5_t,r6_t,r7_t,r8_t]\n",
    "            rt = printRank(TensorList_temp)\n",
    "            numParam_temp = getNumParams(rt)\n",
    "            print('numParam_greedy=', numParam_temp)\n",
    "            if numParam_temp > maxParam:\n",
    "                paramKey = 1\n",
    "                print('Max number of parameters exceeded. Current Param = ', numParam_temp, 'and max Param allowed = ', maxParam)\n",
    "                print('program finish ')\n",
    "                break\n",
    "            #solve continuous part\n",
    "            [TensorList_temp, indxList, LostList] = solve_Continuous(target_Tensor, TensorList_temp, indxList, iterNum)\n",
    "            printRank(TensorList_temp)\n",
    "            #store the optimal value for a given point around its neighbour\n",
    "            if Lost_star > LostList[-1]: \n",
    "                    indx_star = [i,j]\n",
    "                    TensorList_star = TensorList_temp[:]\n",
    "                    indxList_star = indxList[:]  \n",
    "                    Lost_star = LostList[-1]  \n",
    "                    r_greedy = printRank(TensorList_star)\n",
    "                    print('r_greedy = ', r_greedy)\n",
    "                    numParam = getNumParams(r_greedy )\n",
    "                    check = -1\n",
    "            elif Lost_star <= LostList[-1]:\n",
    "                print('k = ', k, 'Prev Loss = ', Lost_star, 'Current Loss = ', LostList[-1])\n",
    "                print('Loss previous is less than current, so no rank update is made at this iteration')\n",
    "                print('total number of parameters for best chosen rank = ', numParam)\n",
    "         \n",
    "            #Reset TensorList_temp to continue with greedy at another point\n",
    "            TensorList_temp = TensorList[:] #set back to previous position to continue with greedy search        \n",
    "    #update parameters   \n",
    "    TensorList_temp = TensorList_star[:]    #everything is behaving as expected\n",
    "    indxList = indxList_star[:]     # don't really need to update this cause these don't really change\n",
    "    TensorList_greedy   = TensorList_star[:]  #everything is behaving as expected\n",
    "    G.append(Lost_star)\n",
    "    "
   ]
  },
  {
   "cell_type": "code",
   "execution_count": 96,
   "metadata": {},
   "outputs": [
    {
     "name": "stdout",
     "output_type": "stream",
     "text": [
      "Tapprox_greedy.shape =  torch.Size([3, 3, 3, 3])\n",
      "len(yi_approxSet_greedy) =  7\n"
     ]
    }
   ],
   "source": [
    "#GREEDY script continue\n",
    "#TensorList contains decomposed block of tensors. We use einsum to combine them into one \n",
    "#big tensor Tapprox_greedy\n",
    "Tapprox_greedy = einSum_Contraction(TensorList_greedy, indxList)  #TensorList_Greedy = TensorList\n",
    "print('Tapprox_greedy.shape = ', Tapprox_greedy.shape)\n",
    "\n",
    "#generate yi_approx = tensorApprox_star * X_i. Plot this set of yi_approx, with yi\n",
    "indxlist_greedy = ['abcd', 'abcd']   # abcd =  = d1*d2*d3*d4 i.e. each alphabet represents each dimension ot target tensor\n",
    "yi_approxSet_greedy = getYi_set(Xi_test, Tapprox_greedy, indxlist_greedy)\n",
    "print('len(yi_approxSet_greedy) = ', len(yi_approxSet_greedy))"
   ]
  },
  {
   "cell_type": "code",
   "execution_count": 105,
   "metadata": {},
   "outputs": [
    {
     "data": {
      "image/png": "[encoded data removed]",
      "text/plain": [
       "<matplotlib.figure.Figure at 0x12ecf4c88>"
      ]
     },
     "metadata": {},
     "output_type": "display_data"
    },
    {
     "name": "stdout",
     "output_type": "stream",
     "text": [
      "greedy: G =  [0.3837956488132477, 0.020550517365336418, 0.004363940097391605, 0.001709083328023553, 0.000998261384665966]\n"
     ]
    }
   ],
   "source": [
    " # plot for all the greedy loops\n",
    "    #import matplotlib.pyplot as plt\n",
    "plt.figure()\n",
    "plt.plot(G, 'o')\n",
    "plt.show()\n",
    "print('greedy: G = ', G)"
   ]
  },
  {
   "cell_type": "code",
   "execution_count": 98,
   "metadata": {},
   "outputs": [
    {
     "name": "stdout",
     "output_type": "stream",
     "text": [
      "Stochastic Method: best rank r =  [1, 2, 2, 2, 1, 2, 1, 4] with loss =  221.47479248046875\n"
     ]
    }
   ],
   "source": [
    "#***********************STOCHASTIC APPROACH MAIN******************************************\n",
    "\n",
    "#The following main program assigns random values to each of the 8 ranks and computes the continuos optimization\n",
    "#part. It repeats 8 times (8 trials) and selects the trial with the smallest lost.\n",
    "\n",
    "#initilize data\n",
    "iterNum=100   #500\n",
    "maxParam = d1*d2*d3*d4\n",
    "#print('maxParam = ', maxParam) \n",
    "L = []\n",
    "#generate sequence of random ranks between 1 to 8\n",
    "numRank = 8\n",
    "d=4  #highest dimension you want to explore\n",
    "max_numShots = 15  #number of random trials you want to perform\n",
    "dmax = max(d1,d2,d3,d4)\n",
    "numShots = 0\n",
    "LostList_prev = 1e12\n",
    "\n",
    "#for i in range(numShots):\n",
    "while numShots <max_numShots:\n",
    "    r_stoch = get_RandomSeqence(numRank,d)\n",
    "    #initialize tensor \n",
    "    A_0 = torch.rand(r_stoch[1],d1,r_stoch[0],r_stoch[6])\n",
    "    B_0 = torch.rand(r_stoch[0],d2,r_stoch[3],r_stoch[7])\n",
    "    C_0 = torch.rand(r_stoch[1],d3,r_stoch[2],r_stoch[5])\n",
    "    D_0 = torch.rand(r_stoch[3],d4,r_stoch[2],r_stoch[4]) \n",
    "    G_0 = torch.rand(r_stoch[4],r_stoch[5],r_stoch[6],r_stoch[7])\n",
    "    TensorList_temp = [A_0,B_0,C_0,D_0,G_0] #TensorList[:]   \n",
    "    #the following if loop checks the number of elements of each A_0, ..., G_0\n",
    "    #does not exceed the total number elements of target tensor\n",
    "    #numParamList = getNumParams(r_stoch)\n",
    "    #if maxParam > numParamList[0] and maxParam > numParamList[1] and maxParam > numParamList[2] and maxParam > numParamList[3] and maxParam > numParamList[4]:\n",
    "    if maxParam > getNumParams(r_stoch):\n",
    "        [TensorList_temp, indxList, LostList] = solve_Continuous(target_Tensor, TensorList_temp, indxList, iterNum)\n",
    "        L.append(LostList[-1])\n",
    "        numShots += 1\n",
    "        #the following if-loop stores the approx tensor that gives the smallest loss\n",
    "        if LostList[-1] <LostList_prev:\n",
    "            tensorApprox_star = TensorList_temp[:]\n",
    "            LostList_prev = LostList[-1]\n",
    "            r_Star = r_stoch       \n",
    "print('Stochastic Method: best rank r = ', r_Star, 'with loss = ', LostList_prev)"
   ]
  },
  {
   "cell_type": "code",
   "execution_count": 99,
   "metadata": {},
   "outputs": [],
   "source": [
    "#...STOCHASTIC SCRIPT CONTINUE\n",
    "#tensorApprox_star consists of blocks of tensor. We take tensor product of all these\n",
    "#blocks to get one big block: TensorApprox_Stoch\n",
    "indxList = [indxA, indxB, indxC, indxD, indxG]  #use the exact same indxList as the ones above\n",
    "TensorApprox_Stoch = einSum_Contraction([tensorApprox_star[0],tensorApprox_star[1],tensorApprox_star[2],tensorApprox_star[3],tensorApprox_star[4]], [indxA, indxB, indxC, indxD, indxG])\n",
    "\n",
    "#generate yi_approx = tensorApprox_star * X_i. \n",
    "indxlist_stoch = [indx, indx]   # indx_Xi = indx_W = indx. \n",
    "yi_approxSet_stoch = getYi_set(Xi_test, TensorApprox_Stoch, indxlist_stoch)"
   ]
  },
  {
   "cell_type": "code",
   "execution_count": 100,
   "metadata": {},
   "outputs": [
    {
     "name": "stdout",
     "output_type": "stream",
     "text": [
      "r_RW = [1, 1, 1, 1, 1, 1, 1, 1]\n",
      "nextDirection =  5\n",
      "r_RW = [1, 1, 1, 1, 1, 2, 1, 1]\n",
      "nextDirection =  0\n",
      "r_RW = [2, 1, 1, 1, 1, 2, 1, 1]\n",
      "nextDirection =  5\n",
      "r_RW = [2, 1, 1, 1, 1, 3, 1, 1]\n",
      "nextDirection =  4\n",
      "r_RW = [2, 1, 1, 1, 2, 3, 1, 1]\n",
      "nextDirection =  6\n",
      "r_RW = [2, 1, 1, 1, 2, 3, 2, 1]\n",
      "nextDirection =  0\n",
      "r_RW = [3, 1, 1, 1, 2, 3, 2, 1]\n",
      "nextDirection =  5\n",
      "r_RW = [3, 1, 1, 1, 2, 4, 2, 1]\n",
      "nextDirection =  7\n",
      "Random Walk: numParam =  86 maxNumParam of target tensor =  81\n",
      "G_RW =  [9984.0439453125, 6356.84033203125, 2429.841796875, 2011.295166015625, 1716.7403564453125, 1679.0604248046875, 622.0523071289062]\n"
     ]
    }
   ],
   "source": [
    "#################################Random Walk(RW) main###############################\n",
    "maxParam = d1*d2*d3*d4\n",
    "iterNum = 100\n",
    "#initialize the edges to 1\n",
    "r_RW = [1,1,1,1,1,1,1,1]\n",
    "numParam_RW = getNumParams(r_RW)\n",
    "Lost_starRW = 1e12  #set it to be any large number\n",
    "G_RW = []\n",
    "while maxParam > numParam_RW:\n",
    "    print('r_RW =', r_RW)\n",
    "    r_RW = get_Next_randomEdge(r_RW)\n",
    "    numParam_RW = getNumParams(r_RW)\n",
    "    #initialize tensor \n",
    "    if maxParam > numParam_RW:\n",
    "        A_0 = torch.rand(r_RW[1],d1,r_RW[0],r_RW[6])\n",
    "        B_0 = torch.rand(r_RW[0],d2,r_RW[3],r_RW[7])\n",
    "        C_0 = torch.rand(r_RW[1],d3,r_RW[2],r_RW[5])\n",
    "        D_0 = torch.rand(r_RW[3],d4,r_RW[2],r_RW[4]) \n",
    "        G_0 = torch.rand(r_RW[4],r_RW[5],r_RW[6],r_RW[7])\n",
    "        TensorList_RW = [A_0,B_0,C_0,D_0,G_0]\n",
    "        [TensorList_RW, indxList, LostList_RW] = solve_Continuous(target_Tensor, TensorList_RW, indxList, iterNum)\n",
    "        G_RW.append(LostList_RW[-1])\n",
    "\n",
    "print('Random Walk: numParam = ', numParam_RW, 'maxNumParam of target tensor = ', maxParam)\n",
    "print('G_RW = ', G_RW)\n",
    "\n",
    "#take the block tensors and combine them to form 1 big tensor: TensorApprox_RW \n",
    "indxList = [indxA, indxB, indxC, indxD, indxG]  #use the exact same indxList as the ones above\n",
    "TensorApprox_RW = einSum_Contraction([TensorList_RW[0], TensorList_RW[1], TensorList_RW[2], TensorList_RW[3], TensorList_RW[4]], [indxA, indxB, indxC, indxD, indxG])\n",
    "indxlist_RW = ['abcd', 'abcd']   # abcd =  = d1*d2*d3*d4 i.e. each alphabet represents each dimension ot target tensor\n",
    "yi_approxSet_RW = getYi_set(Xi_test, TensorApprox_RW, indxlist_RW)\n"
   ]
  },
  {
   "cell_type": "code",
   "execution_count": 101,
   "metadata": {},
   "outputs": [
    {
     "data": {
      "image/png": "[encoded data removed]",
      "text/plain": [
       "<matplotlib.figure.Figure at 0x12eada5f8>"
      ]
     },
     "metadata": {},
     "output_type": "display_data"
    }
   ],
   "source": [
    "##PLOT FOR RANDOM WALK. X-AXIS = total number of steps and Y-axis = LostList[-1]\n",
    "import matplotlib.pyplot as plt\n",
    "plt.figure()\n",
    "plt.plot(G_RW, 'og')\n",
    "plt.show()"
   ]
  },
  {
   "cell_type": "code",
   "execution_count": 102,
   "metadata": {},
   "outputs": [
    {
     "data": {
      "image/png": "[encoded data removed]",
      "text/plain": [
       "<matplotlib.figure.Figure at 0x12e9a1b00>"
      ]
     },
     "metadata": {},
     "output_type": "display_data"
    },
    {
     "name": "stdout",
     "output_type": "stream",
     "text": [
      "Legend\n",
      "red: actual data\n",
      "green: predicted data using stochastic\n",
      "blue: predicted data using greedy\n",
      "magenta: predicted data using random walk\n"
     ]
    }
   ],
   "source": [
    "#we assume yi_actual = yi_train. \n",
    "#The following plot compares the approx yi using different the 3 different approach (greedy, stochastic, random walk)\n",
    "# and compare the approx to the actual data\n",
    "import matplotlib.pyplot as plt\n",
    "plt.figure()\n",
    "plt.plot(yi_approxSet_stoch, 'og')\n",
    "plt.plot(yi_approxSet_greedy, 'ob')\n",
    "plt.plot(yi_approxSet_RW, 'om')\n",
    "plt.plot(yi_test, '*r')   #recall we treat yi_test as our true data\n",
    "plt.title('Greedy, stochastic, randomWalk data vs actual data ',loc='center')\n",
    "plt.show()\n",
    "\n",
    "print('Legend')\n",
    "print('red: actual data')\n",
    "print('green: predicted data using stochastic')\n",
    "print('blue: predicted data using greedy')\n",
    "print('magenta: predicted data using random walk')"
   ]
  },
  {
   "cell_type": "code",
   "execution_count": 103,
   "metadata": {},
   "outputs": [
    {
     "name": "stdout",
     "output_type": "stream",
     "text": [
      "RMSE_stoch =  770.2573320784259\n",
      "RMSE_greedy =  14.378347850711158\n",
      "RMSE_randomWalk =  89.64448568905128\n"
     ]
    }
   ],
   "source": [
    "# Compute RMSE\n",
    "from sklearn.metrics import mean_squared_error\n",
    "from math import sqrt\n",
    "RMSE_stoch = sqrt(mean_squared_error(yi_test,yi_approxSet))\n",
    "print('RMSE_stoch = ',RMSE_stoch)\n",
    "\n",
    "RMSE_greedy = sqrt(mean_squared_error(yi_test,yi_approxSet_greedy))\n",
    "print('RMSE_greedy = ',RMSE_greedy) \n",
    "\n",
    "RMSE_RW = sqrt(mean_squared_error(yi_test,yi_approxSet_RW))\n",
    "print('RMSE_randomWalk = ',RMSE_RW) "
   ]
  },
  {
   "cell_type": "code",
   "execution_count": 104,
   "metadata": {},
   "outputs": [
    {
     "name": "stdout",
     "output_type": "stream",
     "text": [
      "stoch Method: % rel. error =  tensor(15.9501, grad_fn=<MulBackward0>)\n",
      "Greedy Method: % rel. error =  tensor(5.1030, grad_fn=<MulBackward0>)\n",
      "Random Walk Method: % rel. error =  tensor(27.7737, grad_fn=<MulBackward0>)\n"
     ]
    }
   ],
   "source": [
    "#relative error\n",
    "def getRelError(yi_actual,yi_pred):\n",
    "# Both yi_actual,yi_pred are a set of elements\n",
    "    summ = 0\n",
    "    nm = 0\n",
    "    N = len(yi_actual)\n",
    "    for i in range(N):\n",
    "        summ = summ + abs(yi_actual[i] - yi_pred[i])\n",
    "        nm = nm + abs(yi_actual[i])\n",
    "    return summ/nm*100 \n",
    "\n",
    "RE_stoch = getRelError(yi_test,yi_approxSet_stoch)\n",
    "print('stoch Method: % rel. error = ', RE_stoch)\n",
    "\n",
    "RE_greedy = getRelError(yi_test,yi_approxSet_greedy)\n",
    "print('Greedy Method: % rel. error = ', RE_greedy)\n",
    "\n",
    "RE_RW = getRelError(yi_test,yi_approxSet_RW)\n",
    "print('Random Walk Method: % rel. error = ', RE_RW)"
   ]
  },
  {
   "cell_type": "code",
   "execution_count": null,
   "metadata": {
    "collapsed": true
   },
   "outputs": [],
   "source": []
  },
  {
   "cell_type": "code",
   "execution_count": null,
   "metadata": {
    "collapsed": true
   },
   "outputs": [],
   "source": []
  },
  {
   "cell_type": "code",
   "execution_count": null,
   "metadata": {
    "collapsed": true
   },
   "outputs": [],
   "source": []
  },
  {
   "cell_type": "code",
   "execution_count": null,
   "metadata": {
    "collapsed": true
   },
   "outputs": [],
   "source": []
  }
 ],
 "metadata": {
  "kernelspec": {
   "display_name": "Python 3",
   "language": "python",
   "name": "python3"
  },
  "language_info": {
   "codemirror_mode": {
    "name": "ipython",
    "version": 3
   },
   "file_extension": ".py",
   "mimetype": "text/x-python",
   "name": "python",
   "nbconvert_exporter": "python",
   "pygments_lexer": "ipython3",
   "version": "3.6.2"
  }
 },
 "nbformat": 4,
 "nbformat_minor": 2
}
